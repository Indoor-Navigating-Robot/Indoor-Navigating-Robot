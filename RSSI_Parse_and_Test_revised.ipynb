{
 "cells": [
  {
   "cell_type": "markdown",
   "id": "54590b2a-6a82-4be7-9dd1-83230e39c095",
   "metadata": {},
   "source": [
    "## Initial Notebook to Read and Section RSSI Data"
   ]
  },
  {
   "cell_type": "code",
   "execution_count": 1,
   "id": "9e34e317-885e-40ee-a1d0-ae1fdb8ebeee",
   "metadata": {},
   "outputs": [
    {
     "name": "stderr",
     "output_type": "stream",
     "text": [
      "2022-11-06 17:09:47.154034: I tensorflow/core/platform/cpu_feature_guard.cc:193] This TensorFlow binary is optimized with oneAPI Deep Neural Network Library (oneDNN) to use the following CPU instructions in performance-critical operations:  AVX2 AVX_VNNI FMA\n",
      "To enable them in other operations, rebuild TensorFlow with the appropriate compiler flags.\n",
      "2022-11-06 17:09:47.226765: I tensorflow/core/util/util.cc:169] oneDNN custom operations are on. You may see slightly different numerical results due to floating-point round-off errors from different computation orders. To turn them off, set the environment variable `TF_ENABLE_ONEDNN_OPTS=0`.\n",
      "2022-11-06 17:09:47.229960: W tensorflow/stream_executor/platform/default/dso_loader.cc:64] Could not load dynamic library 'libcudart.so.11.0'; dlerror: libcudart.so.11.0: cannot open shared object file: No such file or directory; LD_LIBRARY_PATH: \n",
      "2022-11-06 17:09:47.229972: I tensorflow/stream_executor/cuda/cudart_stub.cc:29] Ignore above cudart dlerror if you do not have a GPU set up on your machine.\n",
      "2022-11-06 17:09:47.243939: E tensorflow/stream_executor/cuda/cuda_blas.cc:2981] Unable to register cuBLAS factory: Attempting to register factory for plugin cuBLAS when one has already been registered\n",
      "2022-11-06 17:09:48.459170: W tensorflow/stream_executor/platform/default/dso_loader.cc:64] Could not load dynamic library 'libnvinfer.so.7'; dlerror: libnvinfer.so.7: cannot open shared object file: No such file or directory; LD_LIBRARY_PATH: \n",
      "2022-11-06 17:09:48.459202: W tensorflow/stream_executor/platform/default/dso_loader.cc:64] Could not load dynamic library 'libnvinfer_plugin.so.7'; dlerror: libnvinfer_plugin.so.7: cannot open shared object file: No such file or directory; LD_LIBRARY_PATH: \n",
      "2022-11-06 17:09:48.459205: W tensorflow/compiler/tf2tensorrt/utils/py_utils.cc:38] TF-TRT Warning: Cannot dlopen some TensorRT libraries. If you would like to use Nvidia GPU with TensorRT, please make sure the missing libraries mentioned above are installed properly.\n"
     ]
    }
   ],
   "source": [
    "import tensorflow as tf\n",
    "import numpy as np\n",
    "import pandas as pd\n",
    "from tensorflow import keras\n",
    "from sklearn.model_selection import train_test_split\n",
    "import tensorflow_docs as tfdocs\n",
    "import tensorflow_docs.plots\n",
    "import tensorflow_docs.modeling"
   ]
  },
  {
   "cell_type": "code",
   "execution_count": 34,
   "id": "d7a3956a-023d-414e-8414-638a76d8c344",
   "metadata": {},
   "outputs": [],
   "source": [
    "df = pd.read_csv(\"data/collected_rssi.csv\")"
   ]
  },
  {
   "cell_type": "code",
   "execution_count": 35,
   "id": "bef70122",
   "metadata": {},
   "outputs": [],
   "source": [
    "# Drop values with over 50% zeros\n",
    "df = df.loc[:, (df != 0).mean() > 0.5]"
   ]
  },
  {
   "cell_type": "code",
   "execution_count": 36,
   "id": "33f0614c",
   "metadata": {
    "scrolled": true
   },
   "outputs": [
    {
     "data": {
      "text/html": [
       "<div>\n",
       "<style scoped>\n",
       "    .dataframe tbody tr th:only-of-type {\n",
       "        vertical-align: middle;\n",
       "    }\n",
       "\n",
       "    .dataframe tbody tr th {\n",
       "        vertical-align: top;\n",
       "    }\n",
       "\n",
       "    .dataframe thead th {\n",
       "        text-align: right;\n",
       "    }\n",
       "</style>\n",
       "<table border=\"1\" class=\"dataframe\">\n",
       "  <thead>\n",
       "    <tr style=\"text-align: right;\">\n",
       "      <th></th>\n",
       "      <th>D0:4D:C6:02:E5:C0</th>\n",
       "      <th>D0:4D:C6:02:95:61</th>\n",
       "      <th>D0:4D:C6:02:95:70</th>\n",
       "      <th>D0:4D:C6:02:47:F0</th>\n",
       "      <th>D0:4D:C6:02:47:E0</th>\n",
       "      <th>D0:4D:C6:02:C2:81</th>\n",
       "      <th>D0:4D:C6:01:E6:20</th>\n",
       "      <th>D0:4D:C6:02:C2:80</th>\n",
       "      <th>D0:4D:C6:01:E6:21</th>\n",
       "      <th>D0:4D:C6:02:7E:50</th>\n",
       "      <th>...</th>\n",
       "      <th>D0:4D:C6:02:95:60</th>\n",
       "      <th>D0:4D:C6:03:4D:40</th>\n",
       "      <th>D0:4D:C6:03:4D:50</th>\n",
       "      <th>D0:4D:C6:02:E5:D1</th>\n",
       "      <th>D0:4D:C6:02:95:71</th>\n",
       "      <th>40:E3:D6:24:25:23</th>\n",
       "      <th>00:4E:35:CF:2E:40</th>\n",
       "      <th>40:E3:D6:24:25:22</th>\n",
       "      <th>x</th>\n",
       "      <th>y</th>\n",
       "    </tr>\n",
       "  </thead>\n",
       "  <tbody>\n",
       "    <tr>\n",
       "      <th>0</th>\n",
       "      <td>43</td>\n",
       "      <td>64</td>\n",
       "      <td>63</td>\n",
       "      <td>32</td>\n",
       "      <td>41</td>\n",
       "      <td>33</td>\n",
       "      <td>37</td>\n",
       "      <td>0</td>\n",
       "      <td>33</td>\n",
       "      <td>31</td>\n",
       "      <td>...</td>\n",
       "      <td>64</td>\n",
       "      <td>45</td>\n",
       "      <td>0</td>\n",
       "      <td>0</td>\n",
       "      <td>63</td>\n",
       "      <td>36</td>\n",
       "      <td>40</td>\n",
       "      <td>36</td>\n",
       "      <td>1.0</td>\n",
       "      <td>5.0</td>\n",
       "    </tr>\n",
       "    <tr>\n",
       "      <th>1</th>\n",
       "      <td>0</td>\n",
       "      <td>69</td>\n",
       "      <td>62</td>\n",
       "      <td>43</td>\n",
       "      <td>47</td>\n",
       "      <td>31</td>\n",
       "      <td>0</td>\n",
       "      <td>31</td>\n",
       "      <td>0</td>\n",
       "      <td>0</td>\n",
       "      <td>...</td>\n",
       "      <td>70</td>\n",
       "      <td>42</td>\n",
       "      <td>0</td>\n",
       "      <td>31</td>\n",
       "      <td>61</td>\n",
       "      <td>0</td>\n",
       "      <td>40</td>\n",
       "      <td>0</td>\n",
       "      <td>4.0</td>\n",
       "      <td>12.0</td>\n",
       "    </tr>\n",
       "    <tr>\n",
       "      <th>2</th>\n",
       "      <td>44</td>\n",
       "      <td>55</td>\n",
       "      <td>46</td>\n",
       "      <td>0</td>\n",
       "      <td>0</td>\n",
       "      <td>36</td>\n",
       "      <td>32</td>\n",
       "      <td>36</td>\n",
       "      <td>32</td>\n",
       "      <td>34</td>\n",
       "      <td>...</td>\n",
       "      <td>55</td>\n",
       "      <td>51</td>\n",
       "      <td>42</td>\n",
       "      <td>0</td>\n",
       "      <td>46</td>\n",
       "      <td>0</td>\n",
       "      <td>0</td>\n",
       "      <td>0</td>\n",
       "      <td>11.0</td>\n",
       "      <td>4.0</td>\n",
       "    </tr>\n",
       "    <tr>\n",
       "      <th>3</th>\n",
       "      <td>0</td>\n",
       "      <td>62</td>\n",
       "      <td>57</td>\n",
       "      <td>31</td>\n",
       "      <td>40</td>\n",
       "      <td>31</td>\n",
       "      <td>31</td>\n",
       "      <td>31</td>\n",
       "      <td>0</td>\n",
       "      <td>31</td>\n",
       "      <td>...</td>\n",
       "      <td>62</td>\n",
       "      <td>47</td>\n",
       "      <td>38</td>\n",
       "      <td>33</td>\n",
       "      <td>57</td>\n",
       "      <td>37</td>\n",
       "      <td>38</td>\n",
       "      <td>0</td>\n",
       "      <td>5.0</td>\n",
       "      <td>12.0</td>\n",
       "    </tr>\n",
       "    <tr>\n",
       "      <th>4</th>\n",
       "      <td>45</td>\n",
       "      <td>64</td>\n",
       "      <td>57</td>\n",
       "      <td>33</td>\n",
       "      <td>40</td>\n",
       "      <td>31</td>\n",
       "      <td>0</td>\n",
       "      <td>31</td>\n",
       "      <td>0</td>\n",
       "      <td>31</td>\n",
       "      <td>...</td>\n",
       "      <td>64</td>\n",
       "      <td>45</td>\n",
       "      <td>39</td>\n",
       "      <td>31</td>\n",
       "      <td>59</td>\n",
       "      <td>37</td>\n",
       "      <td>36</td>\n",
       "      <td>37</td>\n",
       "      <td>2.0</td>\n",
       "      <td>6.0</td>\n",
       "    </tr>\n",
       "    <tr>\n",
       "      <th>...</th>\n",
       "      <td>...</td>\n",
       "      <td>...</td>\n",
       "      <td>...</td>\n",
       "      <td>...</td>\n",
       "      <td>...</td>\n",
       "      <td>...</td>\n",
       "      <td>...</td>\n",
       "      <td>...</td>\n",
       "      <td>...</td>\n",
       "      <td>...</td>\n",
       "      <td>...</td>\n",
       "      <td>...</td>\n",
       "      <td>...</td>\n",
       "      <td>...</td>\n",
       "      <td>...</td>\n",
       "      <td>...</td>\n",
       "      <td>...</td>\n",
       "      <td>...</td>\n",
       "      <td>...</td>\n",
       "      <td>...</td>\n",
       "      <td>...</td>\n",
       "    </tr>\n",
       "    <tr>\n",
       "      <th>281</th>\n",
       "      <td>47</td>\n",
       "      <td>61</td>\n",
       "      <td>60</td>\n",
       "      <td>32</td>\n",
       "      <td>0</td>\n",
       "      <td>31</td>\n",
       "      <td>31</td>\n",
       "      <td>31</td>\n",
       "      <td>31</td>\n",
       "      <td>33</td>\n",
       "      <td>...</td>\n",
       "      <td>61</td>\n",
       "      <td>45</td>\n",
       "      <td>43</td>\n",
       "      <td>35</td>\n",
       "      <td>60</td>\n",
       "      <td>33</td>\n",
       "      <td>40</td>\n",
       "      <td>0</td>\n",
       "      <td>3.0</td>\n",
       "      <td>7.0</td>\n",
       "    </tr>\n",
       "    <tr>\n",
       "      <th>282</th>\n",
       "      <td>0</td>\n",
       "      <td>62</td>\n",
       "      <td>64</td>\n",
       "      <td>31</td>\n",
       "      <td>0</td>\n",
       "      <td>0</td>\n",
       "      <td>35</td>\n",
       "      <td>0</td>\n",
       "      <td>35</td>\n",
       "      <td>33</td>\n",
       "      <td>...</td>\n",
       "      <td>62</td>\n",
       "      <td>52</td>\n",
       "      <td>40</td>\n",
       "      <td>0</td>\n",
       "      <td>64</td>\n",
       "      <td>0</td>\n",
       "      <td>37</td>\n",
       "      <td>0</td>\n",
       "      <td>5.0</td>\n",
       "      <td>3.0</td>\n",
       "    </tr>\n",
       "    <tr>\n",
       "      <th>283</th>\n",
       "      <td>47</td>\n",
       "      <td>59</td>\n",
       "      <td>57</td>\n",
       "      <td>34</td>\n",
       "      <td>38</td>\n",
       "      <td>40</td>\n",
       "      <td>36</td>\n",
       "      <td>40</td>\n",
       "      <td>0</td>\n",
       "      <td>33</td>\n",
       "      <td>...</td>\n",
       "      <td>0</td>\n",
       "      <td>50</td>\n",
       "      <td>44</td>\n",
       "      <td>37</td>\n",
       "      <td>57</td>\n",
       "      <td>36</td>\n",
       "      <td>40</td>\n",
       "      <td>35</td>\n",
       "      <td>6.0</td>\n",
       "      <td>1.0</td>\n",
       "    </tr>\n",
       "    <tr>\n",
       "      <th>284</th>\n",
       "      <td>0</td>\n",
       "      <td>66</td>\n",
       "      <td>60</td>\n",
       "      <td>37</td>\n",
       "      <td>0</td>\n",
       "      <td>31</td>\n",
       "      <td>31</td>\n",
       "      <td>31</td>\n",
       "      <td>31</td>\n",
       "      <td>31</td>\n",
       "      <td>...</td>\n",
       "      <td>66</td>\n",
       "      <td>38</td>\n",
       "      <td>33</td>\n",
       "      <td>0</td>\n",
       "      <td>0</td>\n",
       "      <td>0</td>\n",
       "      <td>43</td>\n",
       "      <td>0</td>\n",
       "      <td>4.0</td>\n",
       "      <td>12.0</td>\n",
       "    </tr>\n",
       "    <tr>\n",
       "      <th>285</th>\n",
       "      <td>44</td>\n",
       "      <td>55</td>\n",
       "      <td>0</td>\n",
       "      <td>31</td>\n",
       "      <td>39</td>\n",
       "      <td>39</td>\n",
       "      <td>38</td>\n",
       "      <td>39</td>\n",
       "      <td>0</td>\n",
       "      <td>0</td>\n",
       "      <td>...</td>\n",
       "      <td>55</td>\n",
       "      <td>52</td>\n",
       "      <td>44</td>\n",
       "      <td>37</td>\n",
       "      <td>52</td>\n",
       "      <td>34</td>\n",
       "      <td>44</td>\n",
       "      <td>35</td>\n",
       "      <td>6.0</td>\n",
       "      <td>4.0</td>\n",
       "    </tr>\n",
       "  </tbody>\n",
       "</table>\n",
       "<p>286 rows × 33 columns</p>\n",
       "</div>"
      ],
      "text/plain": [
       "     D0:4D:C6:02:E5:C0  D0:4D:C6:02:95:61  D0:4D:C6:02:95:70  \\\n",
       "0                   43                 64                 63   \n",
       "1                    0                 69                 62   \n",
       "2                   44                 55                 46   \n",
       "3                    0                 62                 57   \n",
       "4                   45                 64                 57   \n",
       "..                 ...                ...                ...   \n",
       "281                 47                 61                 60   \n",
       "282                  0                 62                 64   \n",
       "283                 47                 59                 57   \n",
       "284                  0                 66                 60   \n",
       "285                 44                 55                  0   \n",
       "\n",
       "     D0:4D:C6:02:47:F0  D0:4D:C6:02:47:E0  D0:4D:C6:02:C2:81  \\\n",
       "0                   32                 41                 33   \n",
       "1                   43                 47                 31   \n",
       "2                    0                  0                 36   \n",
       "3                   31                 40                 31   \n",
       "4                   33                 40                 31   \n",
       "..                 ...                ...                ...   \n",
       "281                 32                  0                 31   \n",
       "282                 31                  0                  0   \n",
       "283                 34                 38                 40   \n",
       "284                 37                  0                 31   \n",
       "285                 31                 39                 39   \n",
       "\n",
       "     D0:4D:C6:01:E6:20  D0:4D:C6:02:C2:80  D0:4D:C6:01:E6:21  \\\n",
       "0                   37                  0                 33   \n",
       "1                    0                 31                  0   \n",
       "2                   32                 36                 32   \n",
       "3                   31                 31                  0   \n",
       "4                    0                 31                  0   \n",
       "..                 ...                ...                ...   \n",
       "281                 31                 31                 31   \n",
       "282                 35                  0                 35   \n",
       "283                 36                 40                  0   \n",
       "284                 31                 31                 31   \n",
       "285                 38                 39                  0   \n",
       "\n",
       "     D0:4D:C6:02:7E:50  ...  D0:4D:C6:02:95:60  D0:4D:C6:03:4D:40  \\\n",
       "0                   31  ...                 64                 45   \n",
       "1                    0  ...                 70                 42   \n",
       "2                   34  ...                 55                 51   \n",
       "3                   31  ...                 62                 47   \n",
       "4                   31  ...                 64                 45   \n",
       "..                 ...  ...                ...                ...   \n",
       "281                 33  ...                 61                 45   \n",
       "282                 33  ...                 62                 52   \n",
       "283                 33  ...                  0                 50   \n",
       "284                 31  ...                 66                 38   \n",
       "285                  0  ...                 55                 52   \n",
       "\n",
       "     D0:4D:C6:03:4D:50  D0:4D:C6:02:E5:D1  D0:4D:C6:02:95:71  \\\n",
       "0                    0                  0                 63   \n",
       "1                    0                 31                 61   \n",
       "2                   42                  0                 46   \n",
       "3                   38                 33                 57   \n",
       "4                   39                 31                 59   \n",
       "..                 ...                ...                ...   \n",
       "281                 43                 35                 60   \n",
       "282                 40                  0                 64   \n",
       "283                 44                 37                 57   \n",
       "284                 33                  0                  0   \n",
       "285                 44                 37                 52   \n",
       "\n",
       "     40:E3:D6:24:25:23  00:4E:35:CF:2E:40  40:E3:D6:24:25:22     x     y  \n",
       "0                   36                 40                 36   1.0   5.0  \n",
       "1                    0                 40                  0   4.0  12.0  \n",
       "2                    0                  0                  0  11.0   4.0  \n",
       "3                   37                 38                  0   5.0  12.0  \n",
       "4                   37                 36                 37   2.0   6.0  \n",
       "..                 ...                ...                ...   ...   ...  \n",
       "281                 33                 40                  0   3.0   7.0  \n",
       "282                  0                 37                  0   5.0   3.0  \n",
       "283                 36                 40                 35   6.0   1.0  \n",
       "284                  0                 43                  0   4.0  12.0  \n",
       "285                 34                 44                 35   6.0   4.0  \n",
       "\n",
       "[286 rows x 33 columns]"
      ]
     },
     "execution_count": 36,
     "metadata": {},
     "output_type": "execute_result"
    }
   ],
   "source": [
    "df"
   ]
  },
  {
   "cell_type": "code",
   "execution_count": 37,
   "id": "10148c56",
   "metadata": {},
   "outputs": [],
   "source": [
    "dftest = df.loc[(df['x'] == 5) & (df['y'] == 12)]\n",
    "dftest2 = df.loc[(df['x'] == 3) & (df['y'] == 3)]"
   ]
  },
  {
   "cell_type": "code",
   "execution_count": 38,
   "id": "b4ed68b6-10e4-4f57-a96d-06537ad6b202",
   "metadata": {},
   "outputs": [],
   "source": [
    "data = df.iloc[:,:-2].to_numpy() / 70 # This normalizes the RSSI values which are between 0 and 70\n",
    "labels = df.iloc[:, -2:].to_numpy() / 12 # This normalizes our x and y which are between 0 and 12"
   ]
  },
  {
   "cell_type": "code",
   "execution_count": 39,
   "id": "cfcf19e9-9c45-4a84-855c-44131fb5a3e6",
   "metadata": {},
   "outputs": [
    {
     "data": {
      "text/plain": [
       "(286, 31)"
      ]
     },
     "execution_count": 39,
     "metadata": {},
     "output_type": "execute_result"
    }
   ],
   "source": [
    "np.shape(data)"
   ]
  },
  {
   "cell_type": "code",
   "execution_count": 40,
   "id": "a94574db-660f-4333-8610-fea53830679f",
   "metadata": {},
   "outputs": [
    {
     "data": {
      "text/plain": [
       "(286, 2)"
      ]
     },
     "execution_count": 40,
     "metadata": {},
     "output_type": "execute_result"
    }
   ],
   "source": [
    "np.shape(labels)"
   ]
  },
  {
   "cell_type": "code",
   "execution_count": 41,
   "id": "60a49e49-87eb-4bf8-ae4f-d38661dd4826",
   "metadata": {},
   "outputs": [],
   "source": [
    "x_train, x_test, y_train, y_test = train_test_split(data, labels) # May want to use k-folds instead"
   ]
  },
  {
   "cell_type": "markdown",
   "id": "ea5e440c-9e24-4ec2-b874-59121d3d39b3",
   "metadata": {},
   "source": [
    "## Test Network"
   ]
  },
  {
   "cell_type": "code",
   "execution_count": 42,
   "id": "3b994b1d-0c20-48e3-86d9-973453be0318",
   "metadata": {},
   "outputs": [
    {
     "name": "stdout",
     "output_type": "stream",
     "text": [
      "Model: \"sequential_6\"\n",
      "_________________________________________________________________\n",
      " Layer (type)                Output Shape              Param #   \n",
      "=================================================================\n",
      " dense_18 (Dense)            (None, 20)                640       \n",
      "                                                                 \n",
      " batch_normalization_3 (Batc  (None, 20)               80        \n",
      " hNormalization)                                                 \n",
      "                                                                 \n",
      " dense_19 (Dense)            (None, 200)               4200      \n",
      "                                                                 \n",
      " dense_20 (Dense)            (None, 2)                 402       \n",
      "                                                                 \n",
      "=================================================================\n",
      "Total params: 5,322\n",
      "Trainable params: 5,282\n",
      "Non-trainable params: 40\n",
      "_________________________________________________________________\n"
     ]
    }
   ],
   "source": [
    "#very basic model, will need to improve\n",
    "model=keras.Sequential([\n",
    "    keras.layers.Dense(20,input_dim=31,activation='relu'),\n",
    "    keras.layers.BatchNormalization(center=True, scale=True),\n",
    "    keras.layers.Dense(200,activation='relu'),\n",
    "    keras.layers.Dense(2)\n",
    "])\n",
    "\n",
    "model.compile(loss='mse', optimizer=tf.keras.optimizers.Adam(), metrics=['mae','mse'])\n",
    "model.summary()"
   ]
  },
  {
   "cell_type": "code",
   "execution_count": 43,
   "id": "64743992-2628-40e1-a8be-5973291b24ae",
   "metadata": {},
   "outputs": [
    {
     "name": "stdout",
     "output_type": "stream",
     "text": [
      "\n",
      "Epoch: 0, loss:0.2558,  mae:0.4199,  mse:0.2558,  val_loss:0.1950,  val_mae:0.3368,  val_mse:0.1950,  \n",
      "....................................................................................................\n",
      "Epoch: 100, loss:0.0086,  mae:0.0739,  mse:0.0086,  val_loss:0.0886,  val_mae:0.2330,  val_mse:0.0886,  \n",
      "....................................................................................................\n",
      "Epoch: 200, loss:0.0061,  mae:0.0607,  mse:0.0061,  val_loss:0.0911,  val_mae:0.2366,  val_mse:0.0911,  \n",
      "....................................................................................................\n",
      "Epoch: 300, loss:0.0052,  mae:0.0528,  mse:0.0052,  val_loss:0.0859,  val_mae:0.2300,  val_mse:0.0859,  \n",
      "....................................................................................................\n",
      "Epoch: 400, loss:0.0033,  mae:0.0447,  mse:0.0033,  val_loss:0.0837,  val_mae:0.2284,  val_mse:0.0837,  \n",
      "...................................................................................................."
     ]
    }
   ],
   "source": [
    "EPOCHS = 500\n",
    "\n",
    "history = model.fit(\n",
    "  x_train, y_train,\n",
    "  epochs=EPOCHS, validation_split = 0.2, verbose=0,\n",
    "  callbacks=[tfdocs.modeling.EpochDots()])"
   ]
  },
  {
   "cell_type": "code",
   "execution_count": 44,
   "id": "a2c6bfce-f2d4-40bc-bf06-0a7e9cebfd48",
   "metadata": {},
   "outputs": [
    {
     "name": "stdout",
     "output_type": "stream",
     "text": [
      "3/3 - 0s - loss: 0.0733 - mae: 0.2056 - mse: 0.0733 - 12ms/epoch - 4ms/step\n",
      "Testing set Mean Abs Error:  0.21 points\n"
     ]
    }
   ],
   "source": [
    "loss, mae, mse = model.evaluate(x_test, y_test, verbose=2)\n",
    "\n",
    "print(\"Testing set Mean Abs Error: {:5.2f} points\".format(mae))\n",
    "\n",
    "# Note that this is the normalized MAE. So in reality, our actual mae is 2.5 feet"
   ]
  },
  {
   "cell_type": "code",
   "execution_count": 45,
   "id": "02527a1f-9702-48b3-a4a9-e9e2aec1d2f6",
   "metadata": {},
   "outputs": [
    {
     "name": "stdout",
     "output_type": "stream",
     "text": [
      "3/3 [==============================] - 0s 705us/step\n"
     ]
    }
   ],
   "source": [
    "test_predictions = model.predict(x_test)"
   ]
  },
  {
   "cell_type": "code",
   "execution_count": 46,
   "id": "07da723b-bceb-41f0-8fc9-87e087afb609",
   "metadata": {},
   "outputs": [
    {
     "name": "stdout",
     "output_type": "stream",
     "text": [
      "[[ 1.  2.]\n",
      " [ 1.  9.]\n",
      " [ 4.  6.]\n",
      " [ 3. 11.]\n",
      " [11.  4.]]\n",
      "[[ 6.3631134  3.9823444]\n",
      " [ 2.718928   6.549961 ]\n",
      " [ 2.900573   8.012068 ]\n",
      " [ 3.6431832 10.550407 ]\n",
      " [ 4.7812877  5.244308 ]]\n"
     ]
    }
   ],
   "source": [
    "# it performed really poorly, but this is a general idea of what we should be doing\n",
    "print(y_test[:5] * 12)\n",
    "print(test_predictions[:5] * 12)"
   ]
  },
  {
   "cell_type": "code",
   "execution_count": 48,
   "id": "1eee2eae",
   "metadata": {
    "scrolled": true
   },
   "outputs": [
    {
     "data": {
      "image/png": "[encoded data removed]",
      "text/plain": [
       "<Figure size 640x480 with 1 Axes>"
      ]
     },
     "metadata": {},
     "output_type": "display_data"
    }
   ],
   "source": [
    "import matplotlib.pyplot as plt\n",
    "plt.scatter(y_test[:, 0] * 12, y_test[:, 1] * 12)\n",
    "plt.scatter(test_predictions[:, 0] * 12, test_predictions[:, 1] * 12)\n",
    "plt.show()"
   ]
  },
  {
   "cell_type": "code",
   "execution_count": 49,
   "id": "8f9445e2-ebc4-4530-94db-66f1c5842c24",
   "metadata": {},
   "outputs": [],
   "source": [
    "# this site may be useful in the future: https://machinelearningmastery.com/deep-learning-models-for-multi-output-regression/"
   ]
  },
  {
   "cell_type": "code",
   "execution_count": 50,
   "id": "f87d9316",
   "metadata": {},
   "outputs": [
    {
     "name": "stdout",
     "output_type": "stream",
     "text": [
      "1/1 [==============================] - 0s 10ms/step\n",
      "[0.41666667 1.        ]\n",
      "[0.42056274 1.0909952 ]\n"
     ]
    }
   ],
   "source": [
    "# Demonstrate what would happen if the robot collected RSSI values at a given spot 3 times and then averaged the predictions\n",
    "# location 5,12\n",
    "# These values are overly optimistic since the data points haven't been removed from our training data\n",
    "datatest = dftest.iloc[:,:-2].to_numpy() / 70\n",
    "labelstest = dftest.iloc[:, -2:].to_numpy() / 12\n",
    "test_predictions1 = model.predict(datatest)\n",
    "print(np.mean(labelstest, axis=0))\n",
    "print(np.mean(test_predictions1, axis=0))"
   ]
  },
  {
   "cell_type": "code",
   "execution_count": 51,
   "id": "c77e9d0b",
   "metadata": {},
   "outputs": [
    {
     "name": "stdout",
     "output_type": "stream",
     "text": [
      "1/1 [==============================] - 0s 10ms/step\n",
      "[0.25 0.25]\n",
      "[0.390942  0.3181459]\n"
     ]
    }
   ],
   "source": [
    "# Demonstrate what would happen if the robot collected RSSI values at a given spot 3 times and then averaged the predictions\n",
    "# location 3,3\n",
    "# These values are overly optimistic since the data points haven't been removed from our training data\n",
    "datatest = dftest2.iloc[:,:-2].to_numpy() / 70\n",
    "labelstest = dftest2.iloc[:, -2:].to_numpy() / 12\n",
    "test_predictions1 = model.predict(datatest)\n",
    "print(np.mean(labelstest, axis=0))\n",
    "print(np.mean(test_predictions1, axis=0))"
   ]
  },
  {
   "cell_type": "code",
   "execution_count": null,
   "id": "51dd486d",
   "metadata": {},
   "outputs": [],
   "source": []
  }
 ],
 "metadata": {
  "kernelspec": {
   "display_name": "Python 3 (ipykernel)",
   "language": "python",
   "name": "python3"
  },
  "language_info": {
   "codemirror_mode": {
    "name": "ipython",
    "version": 3
   },
   "file_extension": ".py",
   "mimetype": "text/x-python",
   "name": "python",
   "nbconvert_exporter": "python",
   "pygments_lexer": "ipython3",
   "version": "3.9.7"
  }
 },
 "nbformat": 4,
 "nbformat_minor": 5
}
