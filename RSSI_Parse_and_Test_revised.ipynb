{
 "cells": [
  {
   "cell_type": "markdown",
   "id": "54590b2a-6a82-4be7-9dd1-83230e39c095",
   "metadata": {},
   "source": [
    "## Initial Notebook to Read and Section RSSI Data"
   ]
  },
  {
   "cell_type": "code",
   "execution_count": 1,
   "id": "9e34e317-885e-40ee-a1d0-ae1fdb8ebeee",
   "metadata": {},
   "outputs": [
    {
     "name": "stderr",
     "output_type": "stream",
     "text": [
      "2022-12-07 14:25:24.637118: I tensorflow/core/platform/cpu_feature_guard.cc:193] This TensorFlow binary is optimized with oneAPI Deep Neural Network Library (oneDNN) to use the following CPU instructions in performance-critical operations:  AVX2 FMA\n",
      "To enable them in other operations, rebuild TensorFlow with the appropriate compiler flags.\n",
      "2022-12-07 14:25:24.742951: W tensorflow/stream_executor/platform/default/dso_loader.cc:64] Could not load dynamic library 'libcudart.so.11.0'; dlerror: libcudart.so.11.0: cannot open shared object file: No such file or directory\n",
      "2022-12-07 14:25:24.742967: I tensorflow/stream_executor/cuda/cudart_stub.cc:29] Ignore above cudart dlerror if you do not have a GPU set up on your machine.\n",
      "2022-12-07 14:25:24.762287: E tensorflow/stream_executor/cuda/cuda_blas.cc:2981] Unable to register cuBLAS factory: Attempting to register factory for plugin cuBLAS when one has already been registered\n",
      "2022-12-07 14:25:25.978741: W tensorflow/stream_executor/platform/default/dso_loader.cc:64] Could not load dynamic library 'libnvinfer.so.7'; dlerror: libnvinfer.so.7: cannot open shared object file: No such file or directory\n",
      "2022-12-07 14:25:25.978782: W tensorflow/stream_executor/platform/default/dso_loader.cc:64] Could not load dynamic library 'libnvinfer_plugin.so.7'; dlerror: libnvinfer_plugin.so.7: cannot open shared object file: No such file or directory\n",
      "2022-12-07 14:25:25.978787: W tensorflow/compiler/tf2tensorrt/utils/py_utils.cc:38] TF-TRT Warning: Cannot dlopen some TensorRT libraries. If you would like to use Nvidia GPU with TensorRT, please make sure the missing libraries mentioned above are installed properly.\n"
     ]
    }
   ],
   "source": [
    "import tensorflow as tf\n",
    "import numpy as np\n",
    "import pandas as pd\n",
    "from tensorflow import keras\n",
    "from sklearn.model_selection import train_test_split\n",
    "import tensorflow_docs as tfdocs\n",
    "import tensorflow_docs.plots\n",
    "import tensorflow_docs.modeling"
   ]
  },
  {
   "cell_type": "code",
   "execution_count": 2,
   "id": "d7a3956a-023d-414e-8414-638a76d8c344",
   "metadata": {},
   "outputs": [],
   "source": [
    "df = pd.read_csv(\"data/collected_rssi.csv\")"
   ]
  },
  {
   "cell_type": "code",
   "execution_count": 3,
   "id": "31d4d5d9",
   "metadata": {},
   "outputs": [
    {
     "data": {
      "text/html": [
       "<div>\n",
       "<style scoped>\n",
       "    .dataframe tbody tr th:only-of-type {\n",
       "        vertical-align: middle;\n",
       "    }\n",
       "\n",
       "    .dataframe tbody tr th {\n",
       "        vertical-align: top;\n",
       "    }\n",
       "\n",
       "    .dataframe thead th {\n",
       "        text-align: right;\n",
       "    }\n",
       "</style>\n",
       "<table border=\"1\" class=\"dataframe\">\n",
       "  <thead>\n",
       "    <tr style=\"text-align: right;\">\n",
       "      <th></th>\n",
       "      <th>x</th>\n",
       "      <th>y</th>\n",
       "    </tr>\n",
       "  </thead>\n",
       "  <tbody>\n",
       "    <tr>\n",
       "      <th>D0:4D:C6:02:E5:C0</th>\n",
       "      <td>0.131891</td>\n",
       "      <td>-0.245480</td>\n",
       "    </tr>\n",
       "    <tr>\n",
       "      <th>D0:4D:C6:02:95:61</th>\n",
       "      <td>-0.391776</td>\n",
       "      <td>0.306523</td>\n",
       "    </tr>\n",
       "    <tr>\n",
       "      <th>D0:4D:C6:02:95:70</th>\n",
       "      <td>-0.176738</td>\n",
       "      <td>0.126001</td>\n",
       "    </tr>\n",
       "    <tr>\n",
       "      <th>D0:D3:E0:B1:87:00</th>\n",
       "      <td>0.154169</td>\n",
       "      <td>-0.114550</td>\n",
       "    </tr>\n",
       "    <tr>\n",
       "      <th>D0:4D:C6:02:47:F0</th>\n",
       "      <td>-0.110312</td>\n",
       "      <td>0.151977</td>\n",
       "    </tr>\n",
       "    <tr>\n",
       "      <th>D0:4D:C6:02:47:E0</th>\n",
       "      <td>-0.028237</td>\n",
       "      <td>0.114121</td>\n",
       "    </tr>\n",
       "    <tr>\n",
       "      <th>D0:4D:C6:02:C2:81</th>\n",
       "      <td>0.114544</td>\n",
       "      <td>-0.121478</td>\n",
       "    </tr>\n",
       "    <tr>\n",
       "      <th>D0:4D:C6:01:E6:20</th>\n",
       "      <td>0.101325</td>\n",
       "      <td>-0.271332</td>\n",
       "    </tr>\n",
       "    <tr>\n",
       "      <th>D0:4D:C6:02:C2:80</th>\n",
       "      <td>0.138287</td>\n",
       "      <td>-0.131309</td>\n",
       "    </tr>\n",
       "    <tr>\n",
       "      <th>D0:4D:C6:01:E6:21</th>\n",
       "      <td>0.148922</td>\n",
       "      <td>-0.347088</td>\n",
       "    </tr>\n",
       "    <tr>\n",
       "      <th>D0:4D:C6:02:D3:A0</th>\n",
       "      <td>0.083085</td>\n",
       "      <td>-0.080744</td>\n",
       "    </tr>\n",
       "    <tr>\n",
       "      <th>D0:4D:C6:02:7E:50</th>\n",
       "      <td>-0.002911</td>\n",
       "      <td>-0.062769</td>\n",
       "    </tr>\n",
       "    <tr>\n",
       "      <th>00:4E:35:CF:97:B0</th>\n",
       "      <td>0.433831</td>\n",
       "      <td>-0.397557</td>\n",
       "    </tr>\n",
       "    <tr>\n",
       "      <th>D0:D3:E0:B1:3A:71</th>\n",
       "      <td>0.148454</td>\n",
       "      <td>-0.148849</td>\n",
       "    </tr>\n",
       "    <tr>\n",
       "      <th>D0:D3:E0:B1:3A:60</th>\n",
       "      <td>0.032588</td>\n",
       "      <td>-0.173536</td>\n",
       "    </tr>\n",
       "    <tr>\n",
       "      <th>D0:4D:C6:02:C2:91</th>\n",
       "      <td>0.153306</td>\n",
       "      <td>-0.158305</td>\n",
       "    </tr>\n",
       "    <tr>\n",
       "      <th>D0:4D:C6:02:7E:51</th>\n",
       "      <td>0.106715</td>\n",
       "      <td>-0.118457</td>\n",
       "    </tr>\n",
       "    <tr>\n",
       "      <th>D0:4D:C6:02:C2:90</th>\n",
       "      <td>0.027845</td>\n",
       "      <td>0.022272</td>\n",
       "    </tr>\n",
       "    <tr>\n",
       "      <th>D0:4D:C6:01:E6:30</th>\n",
       "      <td>0.219313</td>\n",
       "      <td>-0.511025</td>\n",
       "    </tr>\n",
       "    <tr>\n",
       "      <th>D0:4D:C6:02:7E:41</th>\n",
       "      <td>0.213100</td>\n",
       "      <td>-0.351709</td>\n",
       "    </tr>\n",
       "    <tr>\n",
       "      <th>00:4E:35:CF:97:A1</th>\n",
       "      <td>0.016522</td>\n",
       "      <td>-0.081274</td>\n",
       "    </tr>\n",
       "    <tr>\n",
       "      <th>D0:4D:C6:03:4D:51</th>\n",
       "      <td>0.211569</td>\n",
       "      <td>-0.314975</td>\n",
       "    </tr>\n",
       "    <tr>\n",
       "      <th>D0:4D:C6:01:E6:31</th>\n",
       "      <td>0.175675</td>\n",
       "      <td>-0.435872</td>\n",
       "    </tr>\n",
       "    <tr>\n",
       "      <th>00:4E:35:CF:97:B1</th>\n",
       "      <td>0.514079</td>\n",
       "      <td>-0.361607</td>\n",
       "    </tr>\n",
       "    <tr>\n",
       "      <th>D0:4D:C6:02:7E:40</th>\n",
       "      <td>0.175199</td>\n",
       "      <td>-0.286588</td>\n",
       "    </tr>\n",
       "    <tr>\n",
       "      <th>D0:4D:C6:02:47:E1</th>\n",
       "      <td>-0.089839</td>\n",
       "      <td>0.142531</td>\n",
       "    </tr>\n",
       "    <tr>\n",
       "      <th>D0:D3:E0:B1:A0:00</th>\n",
       "      <td>-0.030291</td>\n",
       "      <td>-0.093345</td>\n",
       "    </tr>\n",
       "    <tr>\n",
       "      <th>D0:4D:C6:03:4D:41</th>\n",
       "      <td>0.156921</td>\n",
       "      <td>-0.237856</td>\n",
       "    </tr>\n",
       "    <tr>\n",
       "      <th>D0:4D:C6:02:E5:C1</th>\n",
       "      <td>0.129791</td>\n",
       "      <td>-0.332934</td>\n",
       "    </tr>\n",
       "    <tr>\n",
       "      <th>00:4E:35:CF:97:A0</th>\n",
       "      <td>-0.015994</td>\n",
       "      <td>-0.077984</td>\n",
       "    </tr>\n",
       "    <tr>\n",
       "      <th>00:4E:35:CF:2E:50</th>\n",
       "      <td>-0.101830</td>\n",
       "      <td>0.165825</td>\n",
       "    </tr>\n",
       "    <tr>\n",
       "      <th>00:4E:35:CF:CE:20</th>\n",
       "      <td>0.014187</td>\n",
       "      <td>-0.056995</td>\n",
       "    </tr>\n",
       "    <tr>\n",
       "      <th>D0:D3:E0:B1:3A:61</th>\n",
       "      <td>0.072973</td>\n",
       "      <td>-0.146132</td>\n",
       "    </tr>\n",
       "    <tr>\n",
       "      <th>00:4E:35:CF:2E:51</th>\n",
       "      <td>-0.125485</td>\n",
       "      <td>0.205505</td>\n",
       "    </tr>\n",
       "    <tr>\n",
       "      <th>D0:4D:C6:02:47:F1</th>\n",
       "      <td>-0.021638</td>\n",
       "      <td>0.016721</td>\n",
       "    </tr>\n",
       "    <tr>\n",
       "      <th>00:4E:35:CF:2E:41</th>\n",
       "      <td>-0.040832</td>\n",
       "      <td>0.096264</td>\n",
       "    </tr>\n",
       "    <tr>\n",
       "      <th>D0:4D:C6:02:95:60</th>\n",
       "      <td>-0.303919</td>\n",
       "      <td>0.239008</td>\n",
       "    </tr>\n",
       "    <tr>\n",
       "      <th>40:E3:D6:24:25:32</th>\n",
       "      <td>-0.237991</td>\n",
       "      <td>0.163381</td>\n",
       "    </tr>\n",
       "    <tr>\n",
       "      <th>D0:4D:C6:03:4D:40</th>\n",
       "      <td>0.074299</td>\n",
       "      <td>-0.119199</td>\n",
       "    </tr>\n",
       "    <tr>\n",
       "      <th>40:E3:D6:24:25:33</th>\n",
       "      <td>-0.184061</td>\n",
       "      <td>0.132113</td>\n",
       "    </tr>\n",
       "    <tr>\n",
       "      <th>D0:4D:C6:03:4D:50</th>\n",
       "      <td>0.085728</td>\n",
       "      <td>-0.146925</td>\n",
       "    </tr>\n",
       "    <tr>\n",
       "      <th>D0:4D:C6:02:E5:D1</th>\n",
       "      <td>-0.013637</td>\n",
       "      <td>-0.064918</td>\n",
       "    </tr>\n",
       "    <tr>\n",
       "      <th>D0:D3:E0:B1:3A:70</th>\n",
       "      <td>0.184132</td>\n",
       "      <td>-0.128348</td>\n",
       "    </tr>\n",
       "    <tr>\n",
       "      <th>D0:4D:C6:02:95:71</th>\n",
       "      <td>-0.185498</td>\n",
       "      <td>0.091396</td>\n",
       "    </tr>\n",
       "    <tr>\n",
       "      <th>40:E3:D6:24:25:23</th>\n",
       "      <td>-0.056362</td>\n",
       "      <td>-0.024795</td>\n",
       "    </tr>\n",
       "    <tr>\n",
       "      <th>00:4E:35:CF:2E:40</th>\n",
       "      <td>-0.105626</td>\n",
       "      <td>0.137508</td>\n",
       "    </tr>\n",
       "    <tr>\n",
       "      <th>D0:D3:E0:B1:87:01</th>\n",
       "      <td>0.124322</td>\n",
       "      <td>-0.115991</td>\n",
       "    </tr>\n",
       "    <tr>\n",
       "      <th>D0:4D:C6:02:E5:D0</th>\n",
       "      <td>-0.032708</td>\n",
       "      <td>-0.048017</td>\n",
       "    </tr>\n",
       "    <tr>\n",
       "      <th>40:E3:D6:24:25:22</th>\n",
       "      <td>0.012002</td>\n",
       "      <td>-0.103161</td>\n",
       "    </tr>\n",
       "    <tr>\n",
       "      <th>x</th>\n",
       "      <td>1.000000</td>\n",
       "      <td>-0.437627</td>\n",
       "    </tr>\n",
       "    <tr>\n",
       "      <th>y</th>\n",
       "      <td>-0.437627</td>\n",
       "      <td>1.000000</td>\n",
       "    </tr>\n",
       "  </tbody>\n",
       "</table>\n",
       "</div>"
      ],
      "text/plain": [
       "                          x         y\n",
       "D0:4D:C6:02:E5:C0  0.131891 -0.245480\n",
       "D0:4D:C6:02:95:61 -0.391776  0.306523\n",
       "D0:4D:C6:02:95:70 -0.176738  0.126001\n",
       "D0:D3:E0:B1:87:00  0.154169 -0.114550\n",
       "D0:4D:C6:02:47:F0 -0.110312  0.151977\n",
       "D0:4D:C6:02:47:E0 -0.028237  0.114121\n",
       "D0:4D:C6:02:C2:81  0.114544 -0.121478\n",
       "D0:4D:C6:01:E6:20  0.101325 -0.271332\n",
       "D0:4D:C6:02:C2:80  0.138287 -0.131309\n",
       "D0:4D:C6:01:E6:21  0.148922 -0.347088\n",
       "D0:4D:C6:02:D3:A0  0.083085 -0.080744\n",
       "D0:4D:C6:02:7E:50 -0.002911 -0.062769\n",
       "00:4E:35:CF:97:B0  0.433831 -0.397557\n",
       "D0:D3:E0:B1:3A:71  0.148454 -0.148849\n",
       "D0:D3:E0:B1:3A:60  0.032588 -0.173536\n",
       "D0:4D:C6:02:C2:91  0.153306 -0.158305\n",
       "D0:4D:C6:02:7E:51  0.106715 -0.118457\n",
       "D0:4D:C6:02:C2:90  0.027845  0.022272\n",
       "D0:4D:C6:01:E6:30  0.219313 -0.511025\n",
       "D0:4D:C6:02:7E:41  0.213100 -0.351709\n",
       "00:4E:35:CF:97:A1  0.016522 -0.081274\n",
       "D0:4D:C6:03:4D:51  0.211569 -0.314975\n",
       "D0:4D:C6:01:E6:31  0.175675 -0.435872\n",
       "00:4E:35:CF:97:B1  0.514079 -0.361607\n",
       "D0:4D:C6:02:7E:40  0.175199 -0.286588\n",
       "D0:4D:C6:02:47:E1 -0.089839  0.142531\n",
       "D0:D3:E0:B1:A0:00 -0.030291 -0.093345\n",
       "D0:4D:C6:03:4D:41  0.156921 -0.237856\n",
       "D0:4D:C6:02:E5:C1  0.129791 -0.332934\n",
       "00:4E:35:CF:97:A0 -0.015994 -0.077984\n",
       "00:4E:35:CF:2E:50 -0.101830  0.165825\n",
       "00:4E:35:CF:CE:20  0.014187 -0.056995\n",
       "D0:D3:E0:B1:3A:61  0.072973 -0.146132\n",
       "00:4E:35:CF:2E:51 -0.125485  0.205505\n",
       "D0:4D:C6:02:47:F1 -0.021638  0.016721\n",
       "00:4E:35:CF:2E:41 -0.040832  0.096264\n",
       "D0:4D:C6:02:95:60 -0.303919  0.239008\n",
       "40:E3:D6:24:25:32 -0.237991  0.163381\n",
       "D0:4D:C6:03:4D:40  0.074299 -0.119199\n",
       "40:E3:D6:24:25:33 -0.184061  0.132113\n",
       "D0:4D:C6:03:4D:50  0.085728 -0.146925\n",
       "D0:4D:C6:02:E5:D1 -0.013637 -0.064918\n",
       "D0:D3:E0:B1:3A:70  0.184132 -0.128348\n",
       "D0:4D:C6:02:95:71 -0.185498  0.091396\n",
       "40:E3:D6:24:25:23 -0.056362 -0.024795\n",
       "00:4E:35:CF:2E:40 -0.105626  0.137508\n",
       "D0:D3:E0:B1:87:01  0.124322 -0.115991\n",
       "D0:4D:C6:02:E5:D0 -0.032708 -0.048017\n",
       "40:E3:D6:24:25:22  0.012002 -0.103161\n",
       "x                  1.000000 -0.437627\n",
       "y                 -0.437627  1.000000"
      ]
     },
     "execution_count": 3,
     "metadata": {},
     "output_type": "execute_result"
    }
   ],
   "source": [
    "dfcorr = df.corr(method ='pearson')[['x', 'y']]\n",
    "dfcorr"
   ]
  },
  {
   "cell_type": "code",
   "execution_count": null,
   "id": "6105e4d8",
   "metadata": {},
   "outputs": [],
   "source": []
  },
  {
   "cell_type": "code",
   "execution_count": 4,
   "id": "bef70122",
   "metadata": {},
   "outputs": [
    {
     "data": {
      "text/html": [
       "<div>\n",
       "<style scoped>\n",
       "    .dataframe tbody tr th:only-of-type {\n",
       "        vertical-align: middle;\n",
       "    }\n",
       "\n",
       "    .dataframe tbody tr th {\n",
       "        vertical-align: top;\n",
       "    }\n",
       "\n",
       "    .dataframe thead th {\n",
       "        text-align: right;\n",
       "    }\n",
       "</style>\n",
       "<table border=\"1\" class=\"dataframe\">\n",
       "  <thead>\n",
       "    <tr style=\"text-align: right;\">\n",
       "      <th></th>\n",
       "      <th>x</th>\n",
       "      <th>y</th>\n",
       "    </tr>\n",
       "  </thead>\n",
       "  <tbody>\n",
       "    <tr>\n",
       "      <th>D0:4D:C6:02:E5:C0</th>\n",
       "      <td>0.131891</td>\n",
       "      <td>-0.245480</td>\n",
       "    </tr>\n",
       "    <tr>\n",
       "      <th>D0:4D:C6:02:95:61</th>\n",
       "      <td>-0.391776</td>\n",
       "      <td>0.306523</td>\n",
       "    </tr>\n",
       "    <tr>\n",
       "      <th>D0:4D:C6:01:E6:20</th>\n",
       "      <td>0.101325</td>\n",
       "      <td>-0.271332</td>\n",
       "    </tr>\n",
       "    <tr>\n",
       "      <th>D0:4D:C6:01:E6:21</th>\n",
       "      <td>0.148922</td>\n",
       "      <td>-0.347088</td>\n",
       "    </tr>\n",
       "    <tr>\n",
       "      <th>00:4E:35:CF:97:B0</th>\n",
       "      <td>0.433831</td>\n",
       "      <td>-0.397557</td>\n",
       "    </tr>\n",
       "    <tr>\n",
       "      <th>D0:4D:C6:01:E6:30</th>\n",
       "      <td>0.219313</td>\n",
       "      <td>-0.511025</td>\n",
       "    </tr>\n",
       "    <tr>\n",
       "      <th>D0:4D:C6:02:7E:41</th>\n",
       "      <td>0.213100</td>\n",
       "      <td>-0.351709</td>\n",
       "    </tr>\n",
       "    <tr>\n",
       "      <th>D0:4D:C6:03:4D:51</th>\n",
       "      <td>0.211569</td>\n",
       "      <td>-0.314975</td>\n",
       "    </tr>\n",
       "    <tr>\n",
       "      <th>D0:4D:C6:01:E6:31</th>\n",
       "      <td>0.175675</td>\n",
       "      <td>-0.435872</td>\n",
       "    </tr>\n",
       "    <tr>\n",
       "      <th>00:4E:35:CF:97:B1</th>\n",
       "      <td>0.514079</td>\n",
       "      <td>-0.361607</td>\n",
       "    </tr>\n",
       "    <tr>\n",
       "      <th>D0:4D:C6:02:7E:40</th>\n",
       "      <td>0.175199</td>\n",
       "      <td>-0.286588</td>\n",
       "    </tr>\n",
       "    <tr>\n",
       "      <th>D0:4D:C6:02:E5:C1</th>\n",
       "      <td>0.129791</td>\n",
       "      <td>-0.332934</td>\n",
       "    </tr>\n",
       "    <tr>\n",
       "      <th>x</th>\n",
       "      <td>1.000000</td>\n",
       "      <td>-0.437627</td>\n",
       "    </tr>\n",
       "    <tr>\n",
       "      <th>y</th>\n",
       "      <td>-0.437627</td>\n",
       "      <td>1.000000</td>\n",
       "    </tr>\n",
       "  </tbody>\n",
       "</table>\n",
       "</div>"
      ],
      "text/plain": [
       "                          x         y\n",
       "D0:4D:C6:02:E5:C0  0.131891 -0.245480\n",
       "D0:4D:C6:02:95:61 -0.391776  0.306523\n",
       "D0:4D:C6:01:E6:20  0.101325 -0.271332\n",
       "D0:4D:C6:01:E6:21  0.148922 -0.347088\n",
       "00:4E:35:CF:97:B0  0.433831 -0.397557\n",
       "D0:4D:C6:01:E6:30  0.219313 -0.511025\n",
       "D0:4D:C6:02:7E:41  0.213100 -0.351709\n",
       "D0:4D:C6:03:4D:51  0.211569 -0.314975\n",
       "D0:4D:C6:01:E6:31  0.175675 -0.435872\n",
       "00:4E:35:CF:97:B1  0.514079 -0.361607\n",
       "D0:4D:C6:02:7E:40  0.175199 -0.286588\n",
       "D0:4D:C6:02:E5:C1  0.129791 -0.332934\n",
       "x                  1.000000 -0.437627\n",
       "y                 -0.437627  1.000000"
      ]
     },
     "execution_count": 4,
     "metadata": {},
     "output_type": "execute_result"
    }
   ],
   "source": [
    "# Drop values with over 50% zeros\n",
    "# df.loc[:, (df != 0).mean() > 0.5]\n",
    "dfcorr[(np.abs(dfcorr['x'] > 0.24)) | (np.abs(dfcorr['y']) > 0.24)]"
   ]
  },
  {
   "cell_type": "code",
   "execution_count": 61,
   "id": "33f0614c",
   "metadata": {
    "scrolled": true
   },
   "outputs": [
    {
     "data": {
      "text/html": [
       "<div>\n",
       "<style scoped>\n",
       "    .dataframe tbody tr th:only-of-type {\n",
       "        vertical-align: middle;\n",
       "    }\n",
       "\n",
       "    .dataframe tbody tr th {\n",
       "        vertical-align: top;\n",
       "    }\n",
       "\n",
       "    .dataframe thead th {\n",
       "        text-align: right;\n",
       "    }\n",
       "</style>\n",
       "<table border=\"1\" class=\"dataframe\">\n",
       "  <thead>\n",
       "    <tr style=\"text-align: right;\">\n",
       "      <th></th>\n",
       "      <th>D0:4D:C6:02:E5:C0</th>\n",
       "      <th>D0:4D:C6:02:95:61</th>\n",
       "      <th>D0:4D:C6:01:E6:20</th>\n",
       "      <th>D0:4D:C6:01:E6:21</th>\n",
       "      <th>D0:4D:C6:01:E6:30</th>\n",
       "      <th>D0:4D:C6:01:E6:31</th>\n",
       "      <th>x</th>\n",
       "      <th>y</th>\n",
       "    </tr>\n",
       "  </thead>\n",
       "  <tbody>\n",
       "    <tr>\n",
       "      <th>0</th>\n",
       "      <td>43</td>\n",
       "      <td>64</td>\n",
       "      <td>37</td>\n",
       "      <td>33</td>\n",
       "      <td>31</td>\n",
       "      <td>31</td>\n",
       "      <td>1.0</td>\n",
       "      <td>5.0</td>\n",
       "    </tr>\n",
       "    <tr>\n",
       "      <th>1</th>\n",
       "      <td>0</td>\n",
       "      <td>69</td>\n",
       "      <td>0</td>\n",
       "      <td>0</td>\n",
       "      <td>0</td>\n",
       "      <td>0</td>\n",
       "      <td>4.0</td>\n",
       "      <td>12.0</td>\n",
       "    </tr>\n",
       "    <tr>\n",
       "      <th>2</th>\n",
       "      <td>44</td>\n",
       "      <td>55</td>\n",
       "      <td>32</td>\n",
       "      <td>32</td>\n",
       "      <td>31</td>\n",
       "      <td>31</td>\n",
       "      <td>11.0</td>\n",
       "      <td>4.0</td>\n",
       "    </tr>\n",
       "    <tr>\n",
       "      <th>3</th>\n",
       "      <td>0</td>\n",
       "      <td>62</td>\n",
       "      <td>31</td>\n",
       "      <td>0</td>\n",
       "      <td>0</td>\n",
       "      <td>0</td>\n",
       "      <td>5.0</td>\n",
       "      <td>12.0</td>\n",
       "    </tr>\n",
       "    <tr>\n",
       "      <th>4</th>\n",
       "      <td>45</td>\n",
       "      <td>64</td>\n",
       "      <td>0</td>\n",
       "      <td>0</td>\n",
       "      <td>0</td>\n",
       "      <td>0</td>\n",
       "      <td>2.0</td>\n",
       "      <td>6.0</td>\n",
       "    </tr>\n",
       "    <tr>\n",
       "      <th>...</th>\n",
       "      <td>...</td>\n",
       "      <td>...</td>\n",
       "      <td>...</td>\n",
       "      <td>...</td>\n",
       "      <td>...</td>\n",
       "      <td>...</td>\n",
       "      <td>...</td>\n",
       "      <td>...</td>\n",
       "    </tr>\n",
       "    <tr>\n",
       "      <th>281</th>\n",
       "      <td>47</td>\n",
       "      <td>61</td>\n",
       "      <td>31</td>\n",
       "      <td>31</td>\n",
       "      <td>31</td>\n",
       "      <td>31</td>\n",
       "      <td>3.0</td>\n",
       "      <td>7.0</td>\n",
       "    </tr>\n",
       "    <tr>\n",
       "      <th>282</th>\n",
       "      <td>0</td>\n",
       "      <td>62</td>\n",
       "      <td>35</td>\n",
       "      <td>35</td>\n",
       "      <td>31</td>\n",
       "      <td>31</td>\n",
       "      <td>5.0</td>\n",
       "      <td>3.0</td>\n",
       "    </tr>\n",
       "    <tr>\n",
       "      <th>283</th>\n",
       "      <td>47</td>\n",
       "      <td>59</td>\n",
       "      <td>36</td>\n",
       "      <td>0</td>\n",
       "      <td>31</td>\n",
       "      <td>31</td>\n",
       "      <td>6.0</td>\n",
       "      <td>1.0</td>\n",
       "    </tr>\n",
       "    <tr>\n",
       "      <th>284</th>\n",
       "      <td>0</td>\n",
       "      <td>66</td>\n",
       "      <td>31</td>\n",
       "      <td>31</td>\n",
       "      <td>0</td>\n",
       "      <td>0</td>\n",
       "      <td>4.0</td>\n",
       "      <td>12.0</td>\n",
       "    </tr>\n",
       "    <tr>\n",
       "      <th>285</th>\n",
       "      <td>44</td>\n",
       "      <td>55</td>\n",
       "      <td>38</td>\n",
       "      <td>0</td>\n",
       "      <td>31</td>\n",
       "      <td>31</td>\n",
       "      <td>6.0</td>\n",
       "      <td>4.0</td>\n",
       "    </tr>\n",
       "  </tbody>\n",
       "</table>\n",
       "<p>286 rows × 8 columns</p>\n",
       "</div>"
      ],
      "text/plain": [
       "     D0:4D:C6:02:E5:C0  D0:4D:C6:02:95:61  D0:4D:C6:01:E6:20  \\\n",
       "0                   43                 64                 37   \n",
       "1                    0                 69                  0   \n",
       "2                   44                 55                 32   \n",
       "3                    0                 62                 31   \n",
       "4                   45                 64                  0   \n",
       "..                 ...                ...                ...   \n",
       "281                 47                 61                 31   \n",
       "282                  0                 62                 35   \n",
       "283                 47                 59                 36   \n",
       "284                  0                 66                 31   \n",
       "285                 44                 55                 38   \n",
       "\n",
       "     D0:4D:C6:01:E6:21  D0:4D:C6:01:E6:30  D0:4D:C6:01:E6:31     x     y  \n",
       "0                   33                 31                 31   1.0   5.0  \n",
       "1                    0                  0                  0   4.0  12.0  \n",
       "2                   32                 31                 31  11.0   4.0  \n",
       "3                    0                  0                  0   5.0  12.0  \n",
       "4                    0                  0                  0   2.0   6.0  \n",
       "..                 ...                ...                ...   ...   ...  \n",
       "281                 31                 31                 31   3.0   7.0  \n",
       "282                 35                 31                 31   5.0   3.0  \n",
       "283                  0                 31                 31   6.0   1.0  \n",
       "284                 31                  0                  0   4.0  12.0  \n",
       "285                  0                 31                 31   6.0   4.0  \n",
       "\n",
       "[286 rows x 8 columns]"
      ]
     },
     "execution_count": 61,
     "metadata": {},
     "output_type": "execute_result"
    }
   ],
   "source": [
    "dftestcol = df[['D0:4D:C6:02:E5:C0', 'D0:4D:C6:02:95:61', 'D0:4D:C6:01:E6:20', 'D0:4D:C6:01:E6:21', 'D0:4D:C6:01:E6:30', 'D0:4D:C6:01:E6:31','x', 'y']]\n",
    "dftestcol"
   ]
  },
  {
   "cell_type": "code",
   "execution_count": 62,
   "id": "10148c56",
   "metadata": {},
   "outputs": [],
   "source": [
    "dftest = df.loc[(df['x'] == 5) & (df['y'] == 12)]\n",
    "dftest2 = df.loc[(df['x'] == 3) & (df['y'] == 3)]"
   ]
  },
  {
   "cell_type": "code",
   "execution_count": 63,
   "id": "b4ed68b6-10e4-4f57-a96d-06537ad6b202",
   "metadata": {},
   "outputs": [],
   "source": [
    "data = dftestcol.iloc[:,:-2].to_numpy() / 70 # This normalizes the RSSI values which are between 0 and 70\n",
    "labels = dftestcol.iloc[:, -2:].to_numpy() / 12 # This normalizes our x and y which are between 0 and 12"
   ]
  },
  {
   "cell_type": "code",
   "execution_count": 64,
   "id": "cfcf19e9-9c45-4a84-855c-44131fb5a3e6",
   "metadata": {},
   "outputs": [
    {
     "data": {
      "text/plain": [
       "(286, 6)"
      ]
     },
     "execution_count": 64,
     "metadata": {},
     "output_type": "execute_result"
    }
   ],
   "source": [
    "np.shape(data)"
   ]
  },
  {
   "cell_type": "code",
   "execution_count": 65,
   "id": "a94574db-660f-4333-8610-fea53830679f",
   "metadata": {},
   "outputs": [
    {
     "data": {
      "text/plain": [
       "(286, 2)"
      ]
     },
     "execution_count": 65,
     "metadata": {},
     "output_type": "execute_result"
    }
   ],
   "source": [
    "np.shape(labels)"
   ]
  },
  {
   "cell_type": "code",
   "execution_count": 66,
   "id": "60a49e49-87eb-4bf8-ae4f-d38661dd4826",
   "metadata": {},
   "outputs": [],
   "source": [
    "x_train, x_test, y_train, y_test = train_test_split(data, labels) # May want to use k-folds instead"
   ]
  },
  {
   "cell_type": "markdown",
   "id": "ea5e440c-9e24-4ec2-b874-59121d3d39b3",
   "metadata": {},
   "source": [
    "## Test Network"
   ]
  },
  {
   "cell_type": "code",
   "execution_count": 67,
   "id": "3b994b1d-0c20-48e3-86d9-973453be0318",
   "metadata": {},
   "outputs": [
    {
     "name": "stdout",
     "output_type": "stream",
     "text": [
      "Model: \"sequential_7\"\n",
      "_________________________________________________________________\n",
      " Layer (type)                Output Shape              Param #   \n",
      "=================================================================\n",
      " dense_21 (Dense)            (None, 20)                140       \n",
      "                                                                 \n",
      " batch_normalization_6 (Batc  (None, 20)               80        \n",
      " hNormalization)                                                 \n",
      "                                                                 \n",
      " dense_22 (Dense)            (None, 200)               4200      \n",
      "                                                                 \n",
      " dense_23 (Dense)            (None, 2)                 402       \n",
      "                                                                 \n",
      "=================================================================\n",
      "Total params: 4,822\n",
      "Trainable params: 4,782\n",
      "Non-trainable params: 40\n",
      "_________________________________________________________________\n"
     ]
    }
   ],
   "source": [
    "#very basic model, will need to improve\n",
    "model=keras.Sequential([\n",
    "    keras.layers.Dense(20,input_dim=np.shape(data)[1],activation='relu'),\n",
    "    keras.layers.BatchNormalization(center=True, scale=True),\n",
    "    keras.layers.Dense(200,activation='relu'),\n",
    "    keras.layers.Dense(2)\n",
    "])\n",
    "\n",
    "model.compile(loss='mae', optimizer=tf.keras.optimizers.Adam(), metrics=['mae','mse'])\n",
    "model.summary()"
   ]
  },
  {
   "cell_type": "code",
   "execution_count": 68,
   "id": "64743992-2628-40e1-a8be-5973291b24ae",
   "metadata": {},
   "outputs": [
    {
     "name": "stdout",
     "output_type": "stream",
     "text": [
      "\n",
      "Epoch: 0, loss:0.3778,  mae:0.3778,  mse:0.2342,  val_loss:0.3948,  val_mae:0.3948,  val_mse:0.2407,  \n",
      "....................................................................................................\n",
      "Epoch: 100, loss:0.1149,  mae:0.1149,  mse:0.0255,  val_loss:0.1636,  val_mae:0.1636,  val_mse:0.0456,  \n",
      "....................................................................................................\n",
      "Epoch: 200, loss:0.1119,  mae:0.1119,  mse:0.0245,  val_loss:0.1540,  val_mae:0.1540,  val_mse:0.0486,  \n",
      "....................................................................................................\n",
      "Epoch: 300, loss:0.1053,  mae:0.1053,  mse:0.0228,  val_loss:0.1546,  val_mae:0.1546,  val_mse:0.0462,  \n",
      "....................................................................................................\n",
      "Epoch: 400, loss:0.1030,  mae:0.1030,  mse:0.0222,  val_loss:0.1632,  val_mae:0.1632,  val_mse:0.0517,  \n",
      "....................................................................................................\n",
      "Epoch: 500, loss:0.1006,  mae:0.1006,  mse:0.0205,  val_loss:0.1523,  val_mae:0.1523,  val_mse:0.0430,  \n",
      "....................................................................................................\n",
      "Epoch: 600, loss:0.1063,  mae:0.1063,  mse:0.0212,  val_loss:0.1528,  val_mae:0.1528,  val_mse:0.0416,  \n",
      "...................................................................................................."
     ]
    }
   ],
   "source": [
    "EPOCHS = 700\n",
    "\n",
    "history = model.fit(\n",
    "  x_train, y_train,\n",
    "  epochs=EPOCHS, validation_split = 0.2, verbose=0,\n",
    "  callbacks=[tfdocs.modeling.EpochDots()])"
   ]
  },
  {
   "cell_type": "code",
   "execution_count": 69,
   "id": "a2c6bfce-f2d4-40bc-bf06-0a7e9cebfd48",
   "metadata": {},
   "outputs": [
    {
     "name": "stdout",
     "output_type": "stream",
     "text": [
      "3/3 - 0s - loss: 0.1446 - mae: 0.1446 - mse: 0.0379 - 14ms/epoch - 5ms/step\n",
      "Testing set Mean Abs Error:  0.14 points\n"
     ]
    }
   ],
   "source": [
    "loss, mae, mse = model.evaluate(x_test, y_test, verbose=2)\n",
    "\n",
    "print(\"Testing set Mean Abs Error: {:5.2f} points\".format(mae))\n",
    "\n",
    "# Note that this is the normalized MAE. So in reality, our actual mae is 1.68 feet"
   ]
  },
  {
   "cell_type": "code",
   "execution_count": 70,
   "id": "02527a1f-9702-48b3-a4a9-e9e2aec1d2f6",
   "metadata": {},
   "outputs": [
    {
     "name": "stdout",
     "output_type": "stream",
     "text": [
      "3/3 [==============================] - 0s 872us/step\n"
     ]
    }
   ],
   "source": [
    "test_predictions = model.predict(x_test)"
   ]
  },
  {
   "cell_type": "code",
   "execution_count": 80,
   "id": "7f2b9a93",
   "metadata": {},
   "outputs": [
    {
     "data": {
      "text/plain": [
       "72"
      ]
     },
     "execution_count": 80,
     "metadata": {},
     "output_type": "execute_result"
    }
   ],
   "source": [
    "len(x_test)"
   ]
  },
  {
   "cell_type": "code",
   "execution_count": 71,
   "id": "07da723b-bceb-41f0-8fc9-87e087afb609",
   "metadata": {},
   "outputs": [
    {
     "name": "stdout",
     "output_type": "stream",
     "text": [
      "[[ 2.  1.]\n",
      " [ 4.  3.]\n",
      " [ 8.  2.]\n",
      " [10.  1.]\n",
      " [ 6.  1.]]\n",
      "[[ 1.8365647  5.6859155]\n",
      " [ 2.7443233  3.5768788]\n",
      " [ 6.855814   3.1520069]\n",
      " [ 8.308836   4.703945 ]\n",
      " [11.873579   2.950677 ]]\n"
     ]
    }
   ],
   "source": [
    "# it performed really poorly, but this is a general idea of what we should be doing\n",
    "print(y_test[:5] * 12)\n",
    "print(test_predictions[:5] * 12)"
   ]
  },
  {
   "cell_type": "code",
   "execution_count": 72,
   "id": "1eee2eae",
   "metadata": {
    "scrolled": false
   },
   "outputs": [
    {
     "data": {
      "image/png": "[encoded data removed]",
      "text/plain": [
       "<Figure size 640x480 with 1 Axes>"
      ]
     },
     "metadata": {},
     "output_type": "display_data"
    }
   ],
   "source": [
    "import matplotlib.pyplot as plt\n",
    "plt.scatter(y_test[:, 0] * 12, y_test[:, 1] * 12)\n",
    "plt.scatter(test_predictions[:, 0] * 12, test_predictions[:, 1] * 12)\n",
    "plt.show()"
   ]
  },
  {
   "cell_type": "code",
   "execution_count": 78,
   "id": "8a0d281b",
   "metadata": {},
   "outputs": [
    {
     "data": {
      "image/png": "[encoded data removed]",
      "text/plain": [
       "<Figure size 640x480 with 1 Axes>"
      ]
     },
     "metadata": {},
     "output_type": "display_data"
    }
   ],
   "source": [
    "test_predictionsx = test_predictions[:, 0] * 12\n",
    "\n",
    "a = plt.axes(aspect='equal')\n",
    "plt.scatter(y_test[:, 0] * 12, test_predictionsx)\n",
    "plt.xlabel('True X Values')\n",
    "plt.ylabel('X Predictions')\n",
    "lims = [0, 12]\n",
    "plt.xlim(lims)\n",
    "plt.ylim(lims)\n",
    "_ = plt.plot(lims, lims)\n"
   ]
  },
  {
   "cell_type": "code",
   "execution_count": 79,
   "id": "4c471e36",
   "metadata": {},
   "outputs": [
    {
     "data": {
      "image/png": "[encoded data removed]",
      "text/plain": [
       "<Figure size 640x480 with 1 Axes>"
      ]
     },
     "metadata": {},
     "output_type": "display_data"
    }
   ],
   "source": [
    "test_predictionsy = test_predictions[:, 1] * 12\n",
    "\n",
    "a = plt.axes(aspect='equal')\n",
    "plt.scatter(y_test[:, 1] * 12, test_predictionsy)\n",
    "plt.xlabel('True Y Values')\n",
    "plt.ylabel('Y Predictions')\n",
    "lims = [0, 12]\n",
    "plt.xlim(lims)\n",
    "plt.ylim(lims)\n",
    "_ = plt.plot(lims, lims)"
   ]
  },
  {
   "cell_type": "code",
   "execution_count": 74,
   "id": "8f9445e2-ebc4-4530-94db-66f1c5842c24",
   "metadata": {},
   "outputs": [],
   "source": [
    "# this site may be useful in the future: https://machinelearningmastery.com/deep-learning-models-for-multi-output-regression/"
   ]
  },
  {
   "cell_type": "code",
   "execution_count": 75,
   "id": "51dd486d",
   "metadata": {},
   "outputs": [],
   "source": [
    "model.save('path/to/location/saved_model.h5')"
   ]
  },
  {
   "cell_type": "code",
   "execution_count": 76,
   "id": "583b0fde",
   "metadata": {},
   "outputs": [
    {
     "data": {
      "text/plain": [
       "Index(['D0:4D:C6:02:E5:C0', 'D0:4D:C6:02:95:61', 'D0:4D:C6:02:95:70',\n",
       "       'D0:D3:E0:B1:87:00', 'D0:4D:C6:02:47:F0', 'D0:4D:C6:02:47:E0',\n",
       "       'D0:4D:C6:02:C2:81', 'D0:4D:C6:01:E6:20', 'D0:4D:C6:02:C2:80',\n",
       "       'D0:4D:C6:01:E6:21', 'D0:4D:C6:02:D3:A0', 'D0:4D:C6:02:7E:50',\n",
       "       '00:4E:35:CF:97:B0', 'D0:D3:E0:B1:3A:71', 'D0:D3:E0:B1:3A:60',\n",
       "       'D0:4D:C6:02:C2:91', 'D0:4D:C6:02:7E:51', 'D0:4D:C6:02:C2:90',\n",
       "       'D0:4D:C6:01:E6:30', 'D0:4D:C6:02:7E:41', '00:4E:35:CF:97:A1',\n",
       "       'D0:4D:C6:03:4D:51', 'D0:4D:C6:01:E6:31', '00:4E:35:CF:97:B1',\n",
       "       'D0:4D:C6:02:7E:40', 'D0:4D:C6:02:47:E1', 'D0:D3:E0:B1:A0:00',\n",
       "       'D0:4D:C6:03:4D:41', 'D0:4D:C6:02:E5:C1', '00:4E:35:CF:97:A0',\n",
       "       '00:4E:35:CF:2E:50', '00:4E:35:CF:CE:20', 'D0:D3:E0:B1:3A:61',\n",
       "       '00:4E:35:CF:2E:51', 'D0:4D:C6:02:47:F1', '00:4E:35:CF:2E:41',\n",
       "       'D0:4D:C6:02:95:60', '40:E3:D6:24:25:32', 'D0:4D:C6:03:4D:40',\n",
       "       '40:E3:D6:24:25:33', 'D0:4D:C6:03:4D:50', 'D0:4D:C6:02:E5:D1',\n",
       "       'D0:D3:E0:B1:3A:70', 'D0:4D:C6:02:95:71', '40:E3:D6:24:25:23',\n",
       "       '00:4E:35:CF:2E:40', 'D0:D3:E0:B1:87:01', 'D0:4D:C6:02:E5:D0',\n",
       "       '40:E3:D6:24:25:22', 'x', 'y'],\n",
       "      dtype='object')"
      ]
     },
     "execution_count": 76,
     "metadata": {},
     "output_type": "execute_result"
    }
   ],
   "source": [
    "df.columns"
   ]
  }
 ],
 "metadata": {
  "kernelspec": {
   "display_name": "Python 3 (ipykernel)",
   "language": "python",
   "name": "python3"
  },
  "language_info": {
   "codemirror_mode": {
    "name": "ipython",
    "version": 3
   },
   "file_extension": ".py",
   "mimetype": "text/x-python",
   "name": "python",
   "nbconvert_exporter": "python",
   "pygments_lexer": "ipython3",
   "version": "3.9.7"
  }
 },
 "nbformat": 4,
 "nbformat_minor": 5
}
